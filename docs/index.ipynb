{
 "cells": [
  {
   "cell_type": "markdown",
   "metadata": {},
   "source": [
    "# Symbulate Documentation\n",
    "\n",
    "The Python package *Symbulate* provides a user friendly framework for conducting simulations involving probability models. The syntax of Symbulate mirrors the \"language of probability\" and makes it intuitive to specify, run, analyze, and visualize\n",
    "the results of a simulation."
   ]
  },
  {
   "cell_type": "markdown",
   "metadata": {},
   "source": [
    "<a id='contents'></a>"
   ]
  },
  {
   "cell_type": "markdown",
   "metadata": {},
   "source": [
    "1. [**Introduction and installing Symbulate**](#intro)\n",
    "1. [**Probability spaces**](probspace.html)\n",
    "1. [**Simulation tools**](sim.html)\n",
    "1. [**Random variables**](rv.html)\n",
    "1. [**Commonly used probability models**](common.html)\n",
    "1. [**Multiple random variables and joint distributions**](joint.html)\n",
    "1. [**Conditioning**](conditioning.html)\n",
    "1. [**Random processes**](process.html)\n",
    "1. [**Markov processes**](mc.html)"
   ]
  },
  {
   "cell_type": "markdown",
   "metadata": {},
   "source": [
    "<a id='intro'></a>"
   ]
  },
  {
   "cell_type": "markdown",
   "metadata": {},
   "source": [
    "## Installing Symbulate\n",
    "\n",
    "Instructions for downloading and installing Symbulate can be found [here](http://calpoly.edu/~dsun09/python.html).  Import Symbulate during a session using the following commands."
   ]
  },
  {
   "cell_type": "code",
   "execution_count": 1,
   "metadata": {
    "collapsed": true
   },
   "outputs": [],
   "source": [
    "from symbulate import *\n",
    "%matplotlib inline"
   ]
  },
  {
   "cell_type": "markdown",
   "metadata": {},
   "source": [
    "Information about Jupyter notebooks can be found [here](http://jupyter.org/index.html). Help documentation can be accessed in Jupyter notebooks using the question mark `?` followed by the named of the object for which help is desired."
   ]
  },
  {
   "cell_type": "code",
   "execution_count": 2,
   "metadata": {
    "collapsed": true
   },
   "outputs": [],
   "source": [
    "?BoxModel"
   ]
  },
  {
   "cell_type": "markdown",
   "metadata": {
    "collapsed": true
   },
   "source": [
    "<a id='prob'></a>\n",
    "[Back to contents](#contents)"
   ]
  },
  {
   "cell_type": "code",
   "execution_count": null,
   "metadata": {
    "collapsed": true
   },
   "outputs": [],
   "source": []
  }
 ],
 "metadata": {
  "anaconda-cloud": {},
  "kernelspec": {
   "display_name": "Python [conda root]",
   "language": "python",
   "name": "conda-root-py"
  },
  "language_info": {
   "codemirror_mode": {
    "name": "ipython",
    "version": 3
   },
   "file_extension": ".py",
   "mimetype": "text/x-python",
   "name": "python",
   "nbconvert_exporter": "python",
   "pygments_lexer": "ipython3",
   "version": "3.5.2"
  }
 },
 "nbformat": 4,
 "nbformat_minor": 0
}
