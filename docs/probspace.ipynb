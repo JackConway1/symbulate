{
 "cells": [
  {
   "cell_type": "markdown",
   "metadata": {},
   "source": [
    "# Symbulate Documentation: Probability Spaces"
   ]
  },
  {
   "cell_type": "markdown",
   "metadata": {},
   "source": [
    "<a id='contents'></a>"
   ]
  },
  {
   "cell_type": "markdown",
   "metadata": {},
   "source": [
    "1. [**Introduction and installing Symbulate**](index.html)\n",
    "1. [**Probability spaces**](#probspace)\n",
    "  1. [**BoxModel:**](#boxmodel) Define a simple box model probability space.\n",
    "  1. [**Draw:**](#draw) Draw an outcome according to a probability model.\n",
    "  1. [**ProbabilitySpace:**](#probability_space) Define more general probability spaces.\n",
    "  1. [**Independent spaces:**](#indep) Combine independent probability spaces.\n",
    "1. [**Simulation tools**](sim.html)\n",
    "1. [**Random variables**](rv.html)\n",
    "1. [**Commonly used probability models**](common.html)\n",
    "1. [**Multiple random variables and joint distributions**](joint.html)\n",
    "1. [**Conditioning**](conditioning.html)\n",
    "1. [**Random processes**](process.html)\n",
    "1. [**Markov processes**](mc.html)"
   ]
  },
  {
   "cell_type": "markdown",
   "metadata": {
    "collapsed": true
   },
   "source": [
    "Instructions for downloading and installing Symbulate can be found [here](http://calpoly.edu/~dsun09/python.html).  During a session, be sure to import Symbulate using the following commands.\n",
    "<a id='prob'></a>"
   ]
  },
  {
   "cell_type": "code",
   "execution_count": 1,
   "metadata": {
    "collapsed": true
   },
   "outputs": [],
   "source": [
    "from symbulate import *\n",
    "%matplotlib inline"
   ]
  },
  {
   "cell_type": "markdown",
   "metadata": {},
   "source": [
    "<a id='probspace'></a>\n",
    "[Back to contents](#contents)"
   ]
  },
  {
   "cell_type": "markdown",
   "metadata": {},
   "source": [
    "## Probability Spaces\n",
    "\n",
    "A probability space consists of a sample space of possible outcomes and a probability measure which specifies how to assign probabilities to related events.  Several common probability models are available in Symbulate.  Users can also define their own probability spaces."
   ]
  },
  {
   "cell_type": "markdown",
   "metadata": {},
   "source": [
    "<a id='boxmodel'></a>\n",
    "[Back to contents](#contents)"
   ]
  },
  {
   "cell_type": "markdown",
   "metadata": {},
   "source": [
    "### BoxModel\n",
    "\n",
    "The box model representation can be used for many probability models.  Enter a list repesenting the tickets in the box.  For example, rolling a fair six-sided die could be represented as a box model with six tickets labeled 1 through 6."
   ]
  },
  {
   "cell_type": "code",
   "execution_count": 2,
   "metadata": {
    "collapsed": false
   },
   "outputs": [],
   "source": [
    "die = [1, 2, 3, 4, 5, 6]\n",
    "roll = BoxModel(die)"
   ]
  },
  {
   "cell_type": "markdown",
   "metadata": {},
   "source": [
    "The list of numbers could also have been created using `range()` in Python. Remember that Python indexing starts from 0 by default. Remember also that `range` gives you all the values, up to, but *not including* the last value."
   ]
  },
  {
   "cell_type": "code",
   "execution_count": 3,
   "metadata": {
    "collapsed": false
   },
   "outputs": [],
   "source": [
    "die = list(range(1, 6+1)) # this is just a list of the number 1 through 6\n",
    "roll = BoxModel(die)"
   ]
  },
  {
   "cell_type": "markdown",
   "metadata": {},
   "source": [
    "<a id='draw'></a>\n",
    "[Back to contents](#contents)"
   ]
  },
  {
   "cell_type": "markdown",
   "metadata": {},
   "source": [
    "### Draw\n",
    "\n",
    "BoxModel itself just defines the model; it does return any values.  (The same is true for any probability space.) The `.draw()` method can be used to simulate one draw from the BoxModel (or any probability space)."
   ]
  },
  {
   "cell_type": "code",
   "execution_count": 4,
   "metadata": {
    "collapsed": false
   },
   "outputs": [
    {
     "data": {
      "text/plain": [
       "2"
      ]
     },
     "execution_count": 4,
     "metadata": {},
     "output_type": "execute_result"
    }
   ],
   "source": [
    "roll.draw()"
   ]
  },
  {
   "cell_type": "markdown",
   "metadata": {},
   "source": [
    "### BoxModel options\n",
    "* `box`: A list of \"tickets\" to sample from.\n",
    "* `size`: How many tickets to draw from the box.\n",
    "* `replace`: `True` if the draws are made with replacement; `False` if without replacement\n",
    "* `probs`: Probabilities that the tickets are selected.  By default, all tickets are equally likely.\n",
    "* `order_matters`: `True` if different orderings of the same tickets drawn are counted as different outcomes; `False` if the order in which the tickets are drawn is irrelevant.\n",
    "\n",
    "Multiple tickets can be drawn from the box using the **size** argument."
   ]
  },
  {
   "cell_type": "code",
   "execution_count": 5,
   "metadata": {
    "collapsed": false
   },
   "outputs": [
    {
     "data": {
      "text/plain": [
       "(4, 1, 4)"
      ]
     },
     "execution_count": 5,
     "metadata": {},
     "output_type": "execute_result"
    }
   ],
   "source": [
    "BoxModel(die, size = 3).draw()"
   ]
  },
  {
   "cell_type": "markdown",
   "metadata": {},
   "source": [
    "BoxModel by default assumes equally likely tickets.  This can be changed using the **probs** argument, by specifying a probability value for each ticket.\n",
    "\n",
    "*Example.* Suppose 32% of Americans are Democrats, 27% are Republican, and 41% are Independent.  Five randomly selected Americans are surveyed about their political party affiliation.\n",
    "\n",
    "This situation could be represented as sampling with replacement from a box with 100 tickets, 32 of which are Democrat, etc, from which 5 tickets are drawn.  But rather than specifying a list of 100 tickets, we can just specify the three tickets and the corresponding probabilities with `probs`.  "
   ]
  },
  {
   "cell_type": "code",
   "execution_count": 6,
   "metadata": {
    "collapsed": false
   },
   "outputs": [
    {
     "data": {
      "text/plain": [
       "('D', 'R', 'D', 'I', 'I')"
      ]
     },
     "execution_count": 6,
     "metadata": {},
     "output_type": "execute_result"
    }
   ],
   "source": [
    "BoxModel(['D','R','I'], probs = [0.32, 0.27, 0.41], size = 5).draw()"
   ]
  },
  {
   "cell_type": "markdown",
   "metadata": {},
   "source": [
    "BoxModel by default assumes sampling with replacement; each ticket is placed back in the box before the next ticket is selected.  Sampling *without replacement* can be handled with `replace = False`.  (The default is `replace = True`.)\n",
    "\n",
    "*Example.*  Two people are selected at random from Anakin, Bella, Frodo, Harry, Katniss to go on a quest."
   ]
  },
  {
   "cell_type": "code",
   "execution_count": 7,
   "metadata": {
    "collapsed": false
   },
   "outputs": [
    {
     "data": {
      "text/plain": [
       "('H', 'A')"
      ]
     },
     "execution_count": 7,
     "metadata": {},
     "output_type": "execute_result"
    }
   ],
   "source": [
    "BoxModel(['A','B','F','H','K'], size = 2, replace = False).draw()"
   ]
  },
  {
   "cell_type": "markdown",
   "metadata": {},
   "source": [
    "Note that by default, BoxModel returns ordered outcomes, e.g. ('A', 'B') is distinct from ('B', 'A'). To return unordered outcomes, set `order_matters=False`."
   ]
  },
  {
   "cell_type": "markdown",
   "metadata": {},
   "source": [
    "<a id='probability_space'></a>\n",
    "[Back to contents](#contents)"
   ]
  },
  {
   "cell_type": "markdown",
   "metadata": {},
   "source": [
    "### ProbabilitySpace\n",
    "\n",
    "Symbulate has many [common probability models](common.html) built in.  **ProbabilitySpace** allows for user defined probability models.  The first step in creating a probability space is to define a function that explains how to draw one outcome. \n",
    "\n",
    "*Example.* Ten percent of all e-mail is spam. Thirty percent of spam e-mails contain the word \"money\", while 2% of non-spam e-mails contain the word \"money\". Suppose an e-mail contains the word \"money\". What is the probability that it is spam?\n",
    "\n",
    "We can think of the sample space of outcomes of pairs of the possible email types (spam or not) and wordings (money or not), with the probability measure following the above specifications.  The function spam_sim below encodes these specifications; note the use of .draw()."
   ]
  },
  {
   "cell_type": "code",
   "execution_count": 8,
   "metadata": {
    "collapsed": true
   },
   "outputs": [],
   "source": [
    "def spam_sim():\n",
    "    email_type = BoxModel([\"spam\", \"not spam\"], probs=[.1, .9]).draw()\n",
    "    if email_type == \"spam\":\n",
    "        has_money = BoxModel([\"money\", \"no money\"], probs=[.3, .7]).draw()\n",
    "    else:\n",
    "        has_money = BoxModel([\"money\", \"no money\"], probs=[.02, .98]).draw()\n",
    "    return email_type, has_money"
   ]
  },
  {
   "cell_type": "markdown",
   "metadata": {},
   "source": [
    "A probability space can be created once the specifications of the simulation have been defined through a function."
   ]
  },
  {
   "cell_type": "code",
   "execution_count": 9,
   "metadata": {
    "collapsed": false
   },
   "outputs": [
    {
     "data": {
      "text/plain": [
       "('not spam', 'no money')"
      ]
     },
     "execution_count": 9,
     "metadata": {},
     "output_type": "execute_result"
    }
   ],
   "source": [
    "P = ProbabilitySpace(spam_sim)\n",
    "P.draw()"
   ]
  },
  {
   "cell_type": "markdown",
   "metadata": {},
   "source": [
    "### Commonly used probability spaces\n",
    "\n",
    "Symbulate has many [commonly used probability spaces](common.html) built in.  Here are just a few examples.  "
   ]
  },
  {
   "cell_type": "code",
   "execution_count": 10,
   "metadata": {
    "collapsed": false
   },
   "outputs": [
    {
     "data": {
      "text/plain": [
       "3"
      ]
     },
     "execution_count": 10,
     "metadata": {},
     "output_type": "execute_result"
    }
   ],
   "source": [
    "Binomial(n = 10, p = 0.5).draw()"
   ]
  },
  {
   "cell_type": "code",
   "execution_count": 11,
   "metadata": {
    "collapsed": false
   },
   "outputs": [
    {
     "data": {
      "text/plain": [
       "-0.2202510108996112"
      ]
     },
     "execution_count": 11,
     "metadata": {},
     "output_type": "execute_result"
    }
   ],
   "source": [
    "Normal(mean = 0, sd = 1).draw()"
   ]
  },
  {
   "cell_type": "code",
   "execution_count": 12,
   "metadata": {
    "collapsed": false
   },
   "outputs": [
    {
     "data": {
      "text/plain": [
       "(-0.39223953631395142, -0.04208100535287107, 2.0595577509808791)"
      ]
     },
     "execution_count": 12,
     "metadata": {},
     "output_type": "execute_result"
    }
   ],
   "source": [
    "mean_vector = [0, 1, 2]\n",
    "cov_matrix = [[1.00, 0.50, 0.25],\n",
    "              [0.50, 2.00, 0.00],\n",
    "              [0.25, 0.00, 4.00]]\n",
    "\n",
    "MultivariateNormal(mean = mean_vector, cov = cov_matrix).draw()"
   ]
  },
  {
   "cell_type": "markdown",
   "metadata": {},
   "source": [
    "<a id='indep'></a>\n",
    "[Back to contents](#contents)"
   ]
  },
  {
   "cell_type": "markdown",
   "metadata": {},
   "source": [
    "### Independent probability spaces\n",
    "\n",
    "**Independent** probability spaces can be constructed by multiplying (`*` in Python) two probability spaces. Multiple independent copies of a probability space can be created by raising a probability space to a power (`**` in Python).\n",
    "\n",
    "*Example.*  Roll a fair six-sided die and a fair four-sided die."
   ]
  },
  {
   "cell_type": "code",
   "execution_count": 13,
   "metadata": {
    "collapsed": false
   },
   "outputs": [
    {
     "data": {
      "text/plain": [
       "(1, 4)"
      ]
     },
     "execution_count": 13,
     "metadata": {},
     "output_type": "execute_result"
    }
   ],
   "source": [
    "die6 = list(range(1, 6+1, 1))\n",
    "die4 = list(range(1, 4+1, 1))\n",
    "rolls = BoxModel(die6) * BoxModel(die4)\n",
    "rolls.draw()"
   ]
  },
  {
   "cell_type": "markdown",
   "metadata": {},
   "source": [
    "*Example.* A triple of independent outcomes"
   ]
  },
  {
   "cell_type": "code",
   "execution_count": 14,
   "metadata": {
    "collapsed": false
   },
   "outputs": [
    {
     "data": {
      "text/plain": [
       "('H', 2, 0.08126112911533842)"
      ]
     },
     "execution_count": 14,
     "metadata": {},
     "output_type": "execute_result"
    }
   ],
   "source": [
    "(BoxModel(['H', 'T']) * Poisson(lam = 2) * Exponential(rate = 5)).draw()"
   ]
  },
  {
   "cell_type": "markdown",
   "metadata": {},
   "source": [
    "*Example.* Four independent N(0,1) values."
   ]
  },
  {
   "cell_type": "code",
   "execution_count": 15,
   "metadata": {
    "collapsed": false
   },
   "outputs": [
    {
     "data": {
      "text/plain": [
       "(-0.46292090938579816,\n",
       " -1.9545136622121413,\n",
       " 0.32337665574783075,\n",
       " 0.8110491143511348)"
      ]
     },
     "execution_count": 15,
     "metadata": {},
     "output_type": "execute_result"
    }
   ],
   "source": [
    "P = Normal(mean = 0, var =1) ** 4\n",
    "P.draw()"
   ]
  },
  {
   "cell_type": "markdown",
   "metadata": {},
   "source": [
    "Infinite independent copies of a probability space can be created by raising a probability space to inf (`** inf` in Python).\n",
    "\n",
    "*Example*. Random processes are often defined incrementally. The following code defines the random process X . The probability space corresponds to the independent Bernoulli random variables; note that inf allows for infinitely many values. Also notice how the process is defined incrementally through $X_{n+1} = X_n + Z_{n+1}$."
   ]
  },
  {
   "cell_type": "code",
   "execution_count": 16,
   "metadata": {
    "collapsed": false
   },
   "outputs": [
    {
     "data": {
      "image/png": "[encoded data removed]",
      "text/plain": [
       "<matplotlib.figure.Figure at 0x10f478908>"
      ]
     },
     "metadata": {},
     "output_type": "display_data"
    }
   ],
   "source": [
    "P = Bernoulli(0.5)**inf\n",
    "Z = RV(P)\n",
    "X = RandomProcess(P, TimeIndex(fs=1))\n",
    "\n",
    "X[0] =  0\n",
    "for n in range(100):\n",
    "    X[n+1] = X[n] + Z[n+1]\n",
    "\n",
    "X.sim(1).plot(alpha = 1)"
   ]
  },
  {
   "cell_type": "markdown",
   "metadata": {
    "collapsed": true
   },
   "source": [
    "<a id='simulation'></a>\n",
    "[Back to contents](#contents)"
   ]
  }
 ],
 "metadata": {
  "anaconda-cloud": {},
  "kernelspec": {
   "display_name": "Python 3",
   "language": "python",
   "name": "python3"
  },
  "language_info": {
   "codemirror_mode": {
    "name": "ipython",
    "version": 3
   },
   "file_extension": ".py",
   "mimetype": "text/x-python",
   "name": "python",
   "nbconvert_exporter": "python",
   "pygments_lexer": "ipython3",
   "version": "3.6.0"
  }
 },
 "nbformat": 4,
 "nbformat_minor": 0
}
