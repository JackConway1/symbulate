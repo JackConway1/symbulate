{
 "cells": [
  {
   "cell_type": "markdown",
   "metadata": {},
   "source": [
    "# Symbulate Documentation: Conditioning"
   ]
  },
  {
   "cell_type": "markdown",
   "metadata": {},
   "source": [
    "<a id='contents'></a>"
   ]
  },
  {
   "cell_type": "markdown",
   "metadata": {},
   "source": [
    "1. [**Introduction and installing Symbulate**](index.html)\n",
    "1. [**Probability spaces**](probspace.html)\n",
    "1. [**Simulation tools**](sim.html)\n",
    "1. [**Random variables**](rv.html)\n",
    "1. [**Commonly used probability models**](common.html)\n",
    "1. [**Multiple random variables and joint distributions**](joint.html)\n",
    "1. [**Conditioning**](#conditioning)\n",
    "  1. [**Conditioning with |**](#pipe)\n",
    "  1. [**Conditioning events**](#event)\n",
    "  1. [**Conditioning on multiple events**](#combine)\n",
    "  1. [**Conditioning on events in a probability space**](#outcome)\n",
    "  1. [**Conditiong on the value of a continuous RV**](#continuous)\n",
    "  1. [**Specifying a joint distribution via conditional and marginal distributions**](#conditional)\n",
    "1. [**Random processes**](process.html)\n",
    "1. [**Markov processes**](mc.html)"
   ]
  },
  {
   "cell_type": "markdown",
   "metadata": {},
   "source": [
    "Instructions for downloading and installing Symbulate can be found [here](http://calpoly.edu/~dsun09/python.html).  During a session, be sure to import Symbulate using the following commands."
   ]
  },
  {
   "cell_type": "code",
   "execution_count": 1,
   "metadata": {
    "collapsed": true
   },
   "outputs": [],
   "source": [
    "from symbulate import *\n",
    "%matplotlib inline"
   ]
  },
  {
   "cell_type": "markdown",
   "metadata": {
    "collapsed": true
   },
   "source": [
    "<a id='conditioning'></a>"
   ]
  },
  {
   "cell_type": "markdown",
   "metadata": {},
   "source": [
    "### Conditioning\n",
    "\n",
    "We are often interested in the *conditional distribution* of some random variables *given* the values of other random variables.  For example, if $X$ represents height (inches) and $Y$ represents weight (pounds) for some population, then the conditional distribution of $X$ given $Y=150$ would represent the distribution of heights only for those in the population who weigh 150 pounds.\n",
    "\n",
    "In principle, the conditional distribution of $X$ given $Y=y^*$ (where $y^*$ is a particular value, like 150 in the above example) can be simulated by (1) generating many $(x,y)$ pairs according to the joint distribution of $X$ and $Y$, (2) discarding all pairs for which $y\\neq y^*$, and (3) summarizing the distribution of $x$ values for the pairs that remain."
   ]
  },
  {
   "cell_type": "markdown",
   "metadata": {},
   "source": [
    "<a id='pipe'></a>"
   ]
  },
  {
   "cell_type": "markdown",
   "metadata": {},
   "source": [
    "### Conditioning with |\n",
    "\n",
    "In Symbulate, the process of conditioning can be accomplished directly using the vertical \"pipe\" symbol | (read \"given\")\n",
    "\n",
    "`(X | (Y == 150)).sim(10000)`\n",
    "\n",
    "We illustrate conditioning first with a simple detailed example."
   ]
  },
  {
   "cell_type": "markdown",
   "metadata": {},
   "source": [
    "*Example.* A penny and a nickle are each flipped twice.  Let $X$ be the number of flips of the penny which land on heads, and $Y$ for the nickle.  What is the probability that the penny lands on heads exactly once, given that 3 heads are flipped in total?\n",
    "\n",
    "First, $X$ and $Y$ will be independent, each with a Binomial(2, 0.5) distribution."
   ]
  },
  {
   "cell_type": "code",
   "execution_count": 2,
   "metadata": {
    "collapsed": true
   },
   "outputs": [],
   "source": [
    "X, Y = RV(Binomial(2, 0.5) ** 2)"
   ]
  },
  {
   "cell_type": "markdown",
   "metadata": {},
   "source": [
    "The following simulates many $X, Y$ pairs.  Note that unconditionally there are 9 possible values."
   ]
  },
  {
   "cell_type": "code",
   "execution_count": 3,
   "metadata": {
    "collapsed": false
   },
   "outputs": [
    {
     "data": {
      "text/html": [
       "\n",
       "    <table>\n",
       "      <thead>\n",
       "        <th width=\"80%\">Outcome</th>\n",
       "        <th width=\"20%\">Value</th>\n",
       "      </thead>\n",
       "      <tbody>\n",
       "        <tr><td>(0, 0)</td><td>661</td></tr><tr><td>(0, 1)</td><td>1244</td></tr><tr><td>(0, 2)</td><td>586</td></tr><tr><td>(1, 0)</td><td>1241</td></tr><tr><td>(1, 1)</td><td>2535</td></tr><tr><td>(1, 2)</td><td>1225</td></tr><tr><td>(2, 0)</td><td>591</td></tr><tr><td>(2, 1)</td><td>1313</td></tr><tr><td>(2, 2)</td><td>604</td></tr><tr><td><b>Total</b></td><td><b>10000</b></td></tr>\n",
       "      </tbody>\n",
       "    </table>\n",
       "    "
      ],
      "text/plain": [
       "{(0, 0): 661,\n",
       " (0, 1): 1244,\n",
       " (0, 2): 586,\n",
       " (1, 0): 1241,\n",
       " (1, 1): 2535,\n",
       " (1, 2): 1225,\n",
       " (2, 0): 591,\n",
       " (2, 1): 1313,\n",
       " (2, 2): 604}"
      ]
     },
     "execution_count": 3,
     "metadata": {},
     "output_type": "execute_result"
    }
   ],
   "source": [
    "(X & Y).sim(10000).tabulate()"
   ]
  },
  {
   "cell_type": "markdown",
   "metadata": {},
   "source": [
    "However, we only want to consider pairs for which $X+Y$ is 3.  We accomplish this through conditioning as in the following code.  Note\n",
    "\n",
    "* There are only two possible outcomes for which $X+Y=3$, (2 heads for penny, 1 for nickle; 1 head for penny, 2 for nickle), and so conditioning on $X+Y=3$ should return only these outcomes.\n",
    "* Simulating with `.sim()` when conditioning generates the specified number of values for which the conditioning event is true (i.e. 10000 realizations of $X$ and $Y$ for which the $X+Y = 3$.)\n",
    "* The conditioning event, `(X + Y == 3)`, is placed in parentheses\n",
    "* The double equal sign `==` is used to check for equality"
   ]
  },
  {
   "cell_type": "code",
   "execution_count": 4,
   "metadata": {
    "collapsed": false
   },
   "outputs": [
    {
     "data": {
      "text/html": [
       "\n",
       "    <table>\n",
       "      <thead>\n",
       "        <th width=\"80%\">Outcome</th>\n",
       "        <th width=\"20%\">Value</th>\n",
       "      </thead>\n",
       "      <tbody>\n",
       "        <tr><td>(1, 2)</td><td>5000</td></tr><tr><td>(2, 1)</td><td>5000</td></tr><tr><td><b>Total</b></td><td><b>10000</b></td></tr>\n",
       "      </tbody>\n",
       "    </table>\n",
       "    "
      ],
      "text/plain": [
       "{(1, 2): 5000, (2, 1): 5000}"
      ]
     },
     "execution_count": 4,
     "metadata": {},
     "output_type": "execute_result"
    }
   ],
   "source": [
    "((X & Y) | (X + Y == 3)).sim(10000).tabulate()"
   ]
  },
  {
   "cell_type": "markdown",
   "metadata": {},
   "source": [
    "The previous code illustrates the basic functionality of conditioning.  RVs and simulations with conditioning can be manipulated using the [simulation tools](sim.html) just as those without conditioning.  For example, to find and plot the conditional distribution of $X$ given $X+Y=3$:"
   ]
  },
  {
   "cell_type": "code",
   "execution_count": 5,
   "metadata": {
    "collapsed": false
   },
   "outputs": [
    {
     "data": {
      "text/html": [
       "\n",
       "    <table>\n",
       "      <thead>\n",
       "        <th width=\"80%\">Outcome</th>\n",
       "        <th width=\"20%\">Value</th>\n",
       "      </thead>\n",
       "      <tbody>\n",
       "        <tr><td>1</td><td>0.5058</td></tr><tr><td>2</td><td>0.4942</td></tr><tr><td><b>Total</b></td><td><b>1.0</b></td></tr>\n",
       "      </tbody>\n",
       "    </table>\n",
       "    "
      ],
      "text/plain": [
       "{1: 0.5058, 2: 0.4942}"
      ]
     },
     "execution_count": 5,
     "metadata": {},
     "output_type": "execute_result"
    }
   ],
   "source": [
    "x_given_y3 = (X | (X + Y == 3)).sim(10000)\n",
    "x_given_y3.tabulate(normalize = True)"
   ]
  },
  {
   "cell_type": "code",
   "execution_count": 6,
   "metadata": {
    "collapsed": false
   },
   "outputs": [
    {
     "data": {
      "image/png": "[encoded data removed]",
      "text/plain": [
       "<matplotlib.figure.Figure at 0x11613fc50>"
      ]
     },
     "metadata": {},
     "output_type": "display_data"
    }
   ],
   "source": [
    "x_given_y3.plot()"
   ]
  },
  {
   "cell_type": "markdown",
   "metadata": {},
   "source": [
    "<a id='event'></a>\n",
    "[Back to contents](#contents)"
   ]
  },
  {
   "cell_type": "markdown",
   "metadata": {},
   "source": [
    "### Conditioning events\n",
    "\n",
    "Conditioning events must satisfy the following.\n",
    "\n",
    "* **The conditioning event must be placed in parentheses.**\n",
    "* The condition must involve at least one `RV`.  Remember that a function or transformation of `RV`s is also an `RV`.\n",
    "* The conditioning event must involve a comparison operator: `==`, `>`, `<`, `>=`, `<=`\n",
    "\n",
    "*Example.* Memoryless property of Exponential distributions."
   ]
  },
  {
   "cell_type": "code",
   "execution_count": 7,
   "metadata": {
    "collapsed": false
   },
   "outputs": [
    {
     "data": {
      "image/png": "[encoded data removed]",
      "text/plain": [
       "<matplotlib.figure.Figure at 0x10e4e8e10>"
      ]
     },
     "metadata": {},
     "output_type": "display_data"
    }
   ],
   "source": [
    "X = RV(Exponential(1))\n",
    "(X - 5 | (X > 5)).sim(10000).plot()\n",
    "RV(Exponential(1)).sim(10000).plot()"
   ]
  },
  {
   "cell_type": "markdown",
   "metadata": {},
   "source": [
    "*Example.* Soccer teams X and Y score goals independently of each other, and the number of goals each team scores has a Poisson distribution with mean 1 for X and mean 2 for Y.  Find the expected number of goals that team X scores given that they score at least as many goals as team Y."
   ]
  },
  {
   "cell_type": "code",
   "execution_count": 8,
   "metadata": {
    "collapsed": false
   },
   "outputs": [
    {
     "data": {
      "text/plain": [
       "1.6016999999999999"
      ]
     },
     "execution_count": 8,
     "metadata": {},
     "output_type": "execute_result"
    }
   ],
   "source": [
    "X, Y = RV(Poisson(1) * Poisson(2))\n",
    "(X | (X >= Y)).sim(10000).mean()"
   ]
  },
  {
   "cell_type": "markdown",
   "metadata": {},
   "source": [
    "<a id='combine'></a>\n",
    "[Back to contents](#contents)"
   ]
  },
  {
   "cell_type": "markdown",
   "metadata": {},
   "source": [
    "### Conditioning on multiple events\n",
    "\n",
    "Multiple events can be conditioned on using the logical operators\n",
    "\n",
    "* `!` for not: (!A)\n",
    "* `&` for and: (A & B) \n",
    "* `|` for or: (A | B).  **Caution: be sure to put parentheses around the conditioning events to avoid confusion between | for conditioning and | for or.**\n"
   ]
  },
  {
   "cell_type": "markdown",
   "metadata": {},
   "source": [
    "*Example.* Times between successive earthquakes are independent each having an Exponential distribution with mean 0.5 hour.  Find the conditional distribution of the time (starting now) until the next earthquake occurs, given that exactly 1 earthquake occurs in the next 2 hours. \n",
    "\n",
    "Let $X, Y$ be the times between the first two quakes, so that X is the time of the first quake and $X+Y$ is the time of the second.  The event \"exactly 1 quake in the next 2 hours\" is equivalent to \"the first quake occurs within 2 hours (X < 2) AND the second quake occurs after 2 hours (X + Y >2)\"."
   ]
  },
  {
   "cell_type": "code",
   "execution_count": 9,
   "metadata": {
    "collapsed": false
   },
   "outputs": [
    {
     "data": {
      "image/png": "[encoded data removed]",
      "text/plain": [
       "<matplotlib.figure.Figure at 0x118968780>"
      ]
     },
     "metadata": {},
     "output_type": "display_data"
    }
   ],
   "source": [
    "X, Y = RV(Exponential(scale = 0.5)**2)\n",
    "(X | ((X < 2) & (X + Y > 2)) ).sim(10000).plot()"
   ]
  },
  {
   "cell_type": "markdown",
   "metadata": {},
   "source": [
    "<a id='outcome'></a>\n",
    "[Back to contents](#contents)"
   ]
  },
  {
   "cell_type": "markdown",
   "metadata": {},
   "source": [
    "### Conditioning on events in a probability space\n",
    "\n",
    "Symbulate allows for defining both ProbabilitySpaces and RVs.  Conditioning is only available for RV.  However, conditioning on events in a probability space can be accomplished by defining appropriate RVs and conditioning accordingly.  Note that RV is not required to take numerical values.\n",
    "\n",
    "*Example.* Three cards are dealt without replacement from a standard deck of 52 cards.  What is the conditional probability that the third card is a heart given that the first two cards are hearts? (Note that the true conditional probability  is $11/50 = 0.22$.)"
   ]
  },
  {
   "cell_type": "code",
   "execution_count": 10,
   "metadata": {
    "collapsed": false
   },
   "outputs": [],
   "source": [
    "cards = ['clubs', 'diamonds', 'hearts', 'spades'] * 13\n",
    "FirstCard, SecondCard, ThirdCard = RV(BoxModel(cards, size = 3, replace = False))"
   ]
  },
  {
   "cell_type": "markdown",
   "metadata": {},
   "source": [
    "Note the FirstCard is a RV, but it takes non-numerical values ('clubs', etc). The following conditions on the FirstCard and SecondCard RVs taking the value 'hearts'"
   ]
  },
  {
   "cell_type": "code",
   "execution_count": null,
   "metadata": {
    "collapsed": false
   },
   "outputs": [
    {
     "data": {
      "text/html": [
       "\n",
       "    <table>\n",
       "      <thead>\n",
       "        <th width=\"80%\">Outcome</th>\n",
       "        <th width=\"20%\">Value</th>\n",
       "      </thead>\n",
       "      <tbody>\n",
       "        <tr><td>(('hearts', 'hearts'), 'clubs')</td><td>26217</td></tr><tr><td>(('hearts', 'hearts'), 'diamonds')</td><td>25745</td></tr><tr><td>(('hearts', 'hearts'), 'hearts')</td><td>21861</td></tr><tr><td>(('hearts', 'hearts'), 'spades')</td><td>26177</td></tr><tr><td><b>Total</b></td><td><b>100000</b></td></tr>\n",
       "      </tbody>\n",
       "    </table>\n",
       "    "
      ],
      "text/plain": [
       "{(('hearts', 'hearts'), 'clubs'): 26217,\n",
       " (('hearts', 'hearts'), 'diamonds'): 25745,\n",
       " (('hearts', 'hearts'), 'hearts'): 21861,\n",
       " (('hearts', 'hearts'), 'spades'): 26177}"
      ]
     },
     "execution_count": 11,
     "metadata": {},
     "output_type": "execute_result"
    }
   ],
   "source": [
    "(FirstCard & SecondCard & ThirdCard | ((FirstCard == 'hearts') & (SecondCard == 'hearts')) ).sim(100000).tabulate()"
   ]
  },
  {
   "cell_type": "markdown",
   "metadata": {},
   "source": [
    "<a id='continuous'></a>\n",
    "[Back to contents](#contents)"
   ]
  },
  {
   "cell_type": "markdown",
   "metadata": {},
   "source": [
    "### Conditioning on the value of a continuous RV\n",
    "\n",
    "The probability that a continuous RV equals any particular value is 0, so care must be taken when conditioning on the value of a continuous RV.  If $X$ is continuous, conditioning on the event $X = x$, which has probability 0, can be interpreted in various ways.  The simplest approach is to translate conditioning on $X=x$ as conditioning on values for which $X$ is \"close to\" $x$.\n",
    "\n",
    "*Example.* $X, Y, Z$ have a multivariate normal distribution with mean vector and covariance matrix below.  Find the conditional distribution of $X$ given $Y=1$.\n",
    "\n",
    "We condition on $Y$ being within 0.01 of 1, using `(abs(Y - 1) < 0.01)`.  Note that this conditioning event has probability 0.005, so even though the probability is non-zero, it will still take some time to generate enough repetitions satisfying the condition."
   ]
  },
  {
   "cell_type": "code",
   "execution_count": null,
   "metadata": {
    "collapsed": false
   },
   "outputs": [],
   "source": [
    "mu = [1, 2, 3]\n",
    "Sigma = [[1, 1, -2],\n",
    "        [1, 4, 0],\n",
    "        [-2, 0, 9]]\n",
    "X, Y, Z = RV(MultivariateNormal(mean = mu, cov = Sigma))\n",
    "\n",
    "(X | (abs(Y - 1) < 0.01)).sim(1000).plot()"
   ]
  },
  {
   "cell_type": "markdown",
   "metadata": {},
   "source": [
    "We can also find the conditional joint distribution of $X$ and $Y$ given $Y=1$."
   ]
  },
  {
   "cell_type": "code",
   "execution_count": null,
   "metadata": {
    "collapsed": false
   },
   "outputs": [],
   "source": [
    "(X & Z | (abs(Y - 1) < 0.01)).sim(1000).plot()"
   ]
  },
  {
   "cell_type": "markdown",
   "metadata": {
    "collapsed": true
   },
   "source": [
    "$Y$ and $Z$ are independent"
   ]
  },
  {
   "cell_type": "code",
   "execution_count": null,
   "metadata": {
    "collapsed": false
   },
   "outputs": [],
   "source": [
    "yz = (Y & Z).sim(10000)\n",
    "yz.plot()\n",
    "print('The correlation coefficient of y and z is approximately {:.3f}'.format(yz.corr()))"
   ]
  },
  {
   "cell_type": "markdown",
   "metadata": {},
   "source": [
    "But $Y$ and $Z$ are not conditionally independent given $X = 2$"
   ]
  },
  {
   "cell_type": "code",
   "execution_count": null,
   "metadata": {
    "collapsed": false
   },
   "outputs": [],
   "source": [
    "yz_given_x = (Y & Z | (abs(X - 2) < 0.01)).sim(1000)\n",
    "yz_given_x.plot()\n",
    "print('The correlation coefficient of y and z given x equals 2 is approximately {:.3f}'.format(yz_given_x.corr()))"
   ]
  },
  {
   "cell_type": "markdown",
   "metadata": {},
   "source": [
    "<a id='conditional'></a>\n",
    "[Back to contents](#contents)"
   ]
  },
  {
   "cell_type": "markdown",
   "metadata": {},
   "source": [
    "### Specifying a joint distribution via conditional distribution and marginal distributions\n",
    "\n",
    "The joint distribution fully specifies the conditional and marginal distributions, and so conditioning can be used when the joint distribution is specified.  However, in many situations we specify a joint distribution indirectly by specifying appropriate conditional and marginal distributions.  Such a specification can be made in Symbulate using a custom [`ProbabilitySpace`](probspace.html#probability_space)."
   ]
  },
  {
   "cell_type": "markdown",
   "metadata": {},
   "source": [
    "*Example.* Suppose that $X$ has a Uniform(0,1) distribution and that, given $X=x$, $Y$ has a Binomial(10, $x$) distribution.\n",
    "\n",
    "First define the joint distribution of $X$ and $Y$ using a custom probability space."
   ]
  },
  {
   "cell_type": "code",
   "execution_count": null,
   "metadata": {
    "collapsed": false
   },
   "outputs": [],
   "source": [
    "def binomial_given_uniform():\n",
    "    x = Uniform(0,1).draw()\n",
    "    y = Binomial(10, x).draw()\n",
    "    return x, y\n",
    "\n",
    "X, Y = RV(ProbabilitySpace(binomial_given_uniform))\n",
    "\n",
    "(X & Y).sim(10000).plot(jitter = True, alpha = 0.1)"
   ]
  },
  {
   "cell_type": "markdown",
   "metadata": {},
   "source": [
    "Use the joint distribution to simulate the conditional distribution of $Y$ given $X=0.3$ (and compare to Binomial(10, 0.3))."
   ]
  },
  {
   "cell_type": "code",
   "execution_count": null,
   "metadata": {
    "collapsed": false
   },
   "outputs": [],
   "source": [
    "(Y | (abs(X - 0.3) < 0.01) ).sim(10000).plot(jitter = True)\n",
    "RV(Binomial(10, 0.3)).sim(10000).plot(jitter = True)"
   ]
  },
  {
   "cell_type": "markdown",
   "metadata": {},
   "source": [
    "Simulate the conditional distribution of $X$ given $Y=3$."
   ]
  },
  {
   "cell_type": "code",
   "execution_count": null,
   "metadata": {
    "collapsed": false
   },
   "outputs": [],
   "source": [
    "(X | (Y == 3) ).sim(10000).plot()"
   ]
  },
  {
   "cell_type": "markdown",
   "metadata": {},
   "source": [
    "[Back to contents](#contents)"
   ]
  },
  {
   "cell_type": "code",
   "execution_count": null,
   "metadata": {
    "collapsed": true
   },
   "outputs": [],
   "source": []
  }
 ],
 "metadata": {
  "anaconda-cloud": {},
  "kernelspec": {
   "display_name": "Python 3",
   "language": "python",
   "name": "python3"
  },
  "language_info": {
   "codemirror_mode": {
    "name": "ipython",
    "version": 3
   },
   "file_extension": ".py",
   "mimetype": "text/x-python",
   "name": "python",
   "nbconvert_exporter": "python",
   "pygments_lexer": "ipython3",
   "version": "3.6.0"
  }
 },
 "nbformat": 4,
 "nbformat_minor": 0
}
